{
 "cells": [
  {
   "cell_type": "markdown",
   "metadata": {},
   "source": [
    "# Predicting Reddit Post Popularity"
   ]
  },
  {
   "cell_type": "markdown",
   "metadata": {},
   "source": [
    "This code aims to predict the score of an Ask Reddit Post given the title text in combination with some metadata. It first attempts a baseline implementation using a simple sentiment analysis of the title in a Linear Regression model with Dummy Regressors. It proceeds to attempt more complex sentiment analysis using word embeddings and KNeighborsRegression."
   ]
  },
  {
   "cell_type": "code",
   "execution_count": 1,
   "metadata": {},
   "outputs": [],
   "source": [
    "import matplotlib.pyplot as plt\n",
    "import pandas as pd\n",
    "import numpy as np\n",
    "from sklearn.preprocessing import LabelBinarizer\n",
    "from sklearn.dummy import DummyRegressor\n",
    "from sklearn.linear_model import LinearRegression\n",
    "from sklearn.neighbors import KNeighborsRegressor\n",
    "from sklearn.ensemble import RandomForestRegressor\n",
    "from sklearn.metrics import mean_squared_error\n",
    "from sklearn.metrics import r2_score\n",
    "from nltk import word_tokenize\n",
    "from nltk.stem import PorterStemmer \n",
    "from sklearn.model_selection import train_test_split\n",
    "import os"
   ]
  },
  {
   "cell_type": "code",
   "execution_count": 2,
   "metadata": {},
   "outputs": [],
   "source": [
    "DATA_FILEPATH = '/home/ashuaibi7/project/data'\n",
    "TRAIN_FILE = os.path.join(DATA_FILEPATH, 'train.csv')\n",
    "DEV_FILE = os.path.join(DATA_FILEPATH, 'dev.csv')\n",
    "TEST_FILE = os.path.join(DATA_FILEPATH, 'test.csv')\n",
    "ALL_FILE = os.path.join(DATA_FILEPATH, 'all.csv')\n",
    "GLOVE_FILE = os.path.join(DATA_FILEPATH, 'glove', 'glove.6B.300d.txt')\n",
    "DIMENSION = 300     # Dimension of word embeddings used\n",
    "RANDOM_SEED = 229"
   ]
  },
  {
   "cell_type": "markdown",
   "metadata": {},
   "source": [
    "## Read in Data\n",
    "Read the data processed in the process_data.ipynb into a pandas dataframe. Utilize the label binarizer to convert the non-numeric features into vectorized numeric ones."
   ]
  },
  {
   "cell_type": "code",
   "execution_count": 3,
   "metadata": {},
   "outputs": [],
   "source": [
    "df = pd.read_csv(ALL_FILE)\n",
    "df.dropna(inplace=True)"
   ]
  },
  {
   "cell_type": "code",
   "execution_count": 4,
   "metadata": {},
   "outputs": [],
   "source": [
    "lb = LabelBinarizer()\n",
    "categorical = [lb.fit_transform(df[col]) for col in ['weekday', 'hour']]\n",
    "boolean = [df[col].astype('int') for col in ['over_18', 'sentiment']]\n",
    "numeric = df.loc[:, ['title_length', 'gilded', 'num_comments']].values"
   ]
  },
  {
   "cell_type": "code",
   "execution_count": 5,
   "metadata": {},
   "outputs": [
    {
     "data": {
      "text/html": [
       "<div>\n",
       "<style scoped>\n",
       "    .dataframe tbody tr th:only-of-type {\n",
       "        vertical-align: middle;\n",
       "    }\n",
       "\n",
       "    .dataframe tbody tr th {\n",
       "        vertical-align: top;\n",
       "    }\n",
       "\n",
       "    .dataframe thead th {\n",
       "        text-align: right;\n",
       "    }\n",
       "</style>\n",
       "<table border=\"1\" class=\"dataframe\">\n",
       "  <thead>\n",
       "    <tr style=\"text-align: right;\">\n",
       "      <th></th>\n",
       "      <th>num_comments</th>\n",
       "      <th>title_length</th>\n",
       "      <th>sentiment</th>\n",
       "      <th>weekday</th>\n",
       "      <th>hour</th>\n",
       "      <th>gilded</th>\n",
       "      <th>over_18</th>\n",
       "      <th>score</th>\n",
       "      <th>title</th>\n",
       "    </tr>\n",
       "  </thead>\n",
       "  <tbody>\n",
       "    <tr>\n",
       "      <th>0</th>\n",
       "      <td>1</td>\n",
       "      <td>35</td>\n",
       "      <td>0</td>\n",
       "      <td>0</td>\n",
       "      <td>0</td>\n",
       "      <td>0</td>\n",
       "      <td>False</td>\n",
       "      <td>1</td>\n",
       "      <td>What are your new year resolutions?</td>\n",
       "    </tr>\n",
       "    <tr>\n",
       "      <th>1</th>\n",
       "      <td>0</td>\n",
       "      <td>77</td>\n",
       "      <td>0</td>\n",
       "      <td>0</td>\n",
       "      <td>0</td>\n",
       "      <td>0</td>\n",
       "      <td>False</td>\n",
       "      <td>1</td>\n",
       "      <td>Are you planning to kill yourself before you g...</td>\n",
       "    </tr>\n",
       "    <tr>\n",
       "      <th>2</th>\n",
       "      <td>7</td>\n",
       "      <td>33</td>\n",
       "      <td>0</td>\n",
       "      <td>0</td>\n",
       "      <td>0</td>\n",
       "      <td>0</td>\n",
       "      <td>False</td>\n",
       "      <td>2</td>\n",
       "      <td>What is your embarrassing fetish?</td>\n",
       "    </tr>\n",
       "    <tr>\n",
       "      <th>3</th>\n",
       "      <td>5</td>\n",
       "      <td>44</td>\n",
       "      <td>0</td>\n",
       "      <td>0</td>\n",
       "      <td>0</td>\n",
       "      <td>0</td>\n",
       "      <td>False</td>\n",
       "      <td>0</td>\n",
       "      <td>What makes the Bible the only book of truth?</td>\n",
       "    </tr>\n",
       "    <tr>\n",
       "      <th>4</th>\n",
       "      <td>10</td>\n",
       "      <td>183</td>\n",
       "      <td>0</td>\n",
       "      <td>0</td>\n",
       "      <td>0</td>\n",
       "      <td>0</td>\n",
       "      <td>False</td>\n",
       "      <td>2</td>\n",
       "      <td>Redditors that used to frequent forums, chat r...</td>\n",
       "    </tr>\n",
       "  </tbody>\n",
       "</table>\n",
       "</div>"
      ],
      "text/plain": [
       "   num_comments  title_length  sentiment  weekday  hour  gilded  over_18  \\\n",
       "0             1            35          0        0     0       0    False   \n",
       "1             0            77          0        0     0       0    False   \n",
       "2             7            33          0        0     0       0    False   \n",
       "3             5            44          0        0     0       0    False   \n",
       "4            10           183          0        0     0       0    False   \n",
       "\n",
       "   score                                              title  \n",
       "0      1                What are your new year resolutions?  \n",
       "1      1  Are you planning to kill yourself before you g...  \n",
       "2      2                  What is your embarrassing fetish?  \n",
       "3      0       What makes the Bible the only book of truth?  \n",
       "4      2  Redditors that used to frequent forums, chat r...  "
      ]
     },
     "execution_count": 5,
     "metadata": {},
     "output_type": "execute_result"
    }
   ],
   "source": [
    "df.head()"
   ]
  },
  {
   "cell_type": "markdown",
   "metadata": {},
   "source": [
    "## Generate Average Word Embeddings as Features\n",
    "We will do so using existing word embeddings provided by GloVe. Read in these embeddings with the function below."
   ]
  },
  {
   "cell_type": "code",
   "execution_count": 6,
   "metadata": {},
   "outputs": [],
   "source": [
    "# We will use the 300-dimension GloVe representations\n",
    "def glove_dictionary(filename):\n",
    "    data = {}\n",
    "    with open(filename) as f:\n",
    "        while True:\n",
    "            try:\n",
    "                line = next(f)\n",
    "                line = line.strip().split()\n",
    "                data[line[0]] = np.array(line[1: ], dtype = np.float)\n",
    "            except StopIteration: break\n",
    "            except UnicodeDecodeError: pass\n",
    "    return data"
   ]
  },
  {
   "cell_type": "code",
   "execution_count": 7,
   "metadata": {},
   "outputs": [],
   "source": [
    "glove_embeddings = glove_dictionary(GLOVE_FILE)"
   ]
  },
  {
   "cell_type": "code",
   "execution_count": 8,
   "metadata": {},
   "outputs": [],
   "source": [
    "ps = PorterStemmer() "
   ]
  },
  {
   "cell_type": "code",
   "execution_count": 9,
   "metadata": {},
   "outputs": [],
   "source": [
    "def generate_embeddings():\n",
    "    title_embeddings = []\n",
    "    for index, row in df.iterrows():\n",
    "        token_embeddings = []\n",
    "        tokens = word_tokenize(row['title'].lower())\n",
    "        for token in tokens:\n",
    "            token = ps.stem(token)\n",
    "            if token in glove_embeddings: token_embeddings.append(glove_embeddings[token])\n",
    "        if len(token_embeddings) == 0: token_embeddings = [np.zeros(DIMENSION)]\n",
    "        title_embeddings.append(np.mean(token_embeddings, axis=0))\n",
    "    return title_embeddings"
   ]
  },
  {
   "cell_type": "code",
   "execution_count": null,
   "metadata": {},
   "outputs": [],
   "source": [
    "# Average all the word embeddings in a title\n",
    "title_embeddings = generate_embeddings()"
   ]
  },
  {
   "cell_type": "code",
   "execution_count": null,
   "metadata": {},
   "outputs": [],
   "source": [
    "title_embeddings_features = np.stack(title_embeddings)"
   ]
  },
  {
   "cell_type": "code",
   "execution_count": 11,
   "metadata": {},
   "outputs": [],
   "source": [
    "final = [numeric] + boolean + categorical + [title_embeddings_features]\n",
    "x = np.column_stack(tuple(final))\n",
    "y = df['score'].values"
   ]
  },
  {
   "cell_type": "code",
   "execution_count": 12,
   "metadata": {},
   "outputs": [],
   "source": [
    "# Used to test functionalty. When running final evaluation, use TRAIN_FILE/DEV_FILE/TEST_FILE manually\n",
    "X_train, X_test, y_train, y_test = train_test_split(x, y, test_size=0.3, random_state=RANDOM_SEED)"
   ]
  },
  {
   "cell_type": "code",
   "execution_count": 13,
   "metadata": {},
   "outputs": [],
   "source": [
    "def r2_and_rmse(model, pr=True):\n",
    "    y_predicted = model.predict(X_test)\n",
    "    return [r2_score(y_test, y_predicted),np.sqrt(mean_squared_error(y_test, y_predicted))]\n",
    "def plot(models, metric = 'RMSE'):\n",
    "    r, rmse = [], []\n",
    "    for key in models.keys():\n",
    "        r.append(models[key][0])\n",
    "        rmse.append(models[key][1])\n",
    "    vals = pd.DataFrame([])\n",
    "    vals['R-squared'], vals['RMSE'] = r, rmse\n",
    "    vals.index = models.keys()\n",
    "    # R-squared plot\n",
    "    fig, ax = plt.subplots(figsize = (12,6))\n",
    "    ax.bar(vals.index, vals['R-squared'], color='green')\n",
    "    plt.xlabel('Model')\n",
    "    plt.ylabel('R-squared')    \n",
    "    plt.xticks(rotation = 45)\n",
    "    \n",
    "    # RMSE plot\n",
    "    fig, ax = plt.subplots(figsize = (12,6))\n",
    "    ax.bar(vals.index, vals['RMSE'], color='blue')\n",
    "    plt.xlabel('Model')\n",
    "    plt.ylabel('RMSE')    \n",
    "    plt.xticks(rotation = 45)"
   ]
  },
  {
   "cell_type": "code",
   "execution_count": 14,
   "metadata": {},
   "outputs": [],
   "source": [
    "# Repeat the notebook twice. Once using the word embeddings as features\n",
    "# and once without to get the values below:\n",
    "models = {\n",
    "    'Baseline': [0.001, 645.19],\n",
    "    'Linear': [0.7204, 355.14],\n",
    "    'Linear_With_Embeddings': [0.7283, 353.74],\n",
    "    'KNN': [0.7289, 353.22],\n",
    "    'KNN_With_Embeddings': [0.7408, 344.32],\n",
    "    'Random_Forest': [0.7764, 304.92],\n",
    "    'Random_Forest_With_Embeddings': [0.7855, 301.32],\n",
    "}"
   ]
  },
  {
   "cell_type": "code",
   "execution_count": 15,
   "metadata": {},
   "outputs": [
    {
     "data": {
      "image/png": "[encoded data removed]",
      "text/plain": [
       "<Figure size 864x432 with 1 Axes>"
      ]
     },
     "metadata": {
      "needs_background": "light"
     },
     "output_type": "display_data"
    },
    {
     "data": {
      "image/png": "[encoded data removed]",
      "text/plain": [
       "<Figure size 864x432 with 1 Axes>"
      ]
     },
     "metadata": {
      "needs_background": "light"
     },
     "output_type": "display_data"
    }
   ],
   "source": [
    "plot(models)"
   ]
  },
  {
   "cell_type": "code",
   "execution_count": 17,
   "metadata": {},
   "outputs": [],
   "source": [
    "baseline = DummyRegressor(strategy='median')\n",
    "baseline.fit(X_train,y_train)\n",
    "linear = LinearRegression()\n",
    "linear.fit(X_train,y_train)\n",
    "knn_regression = KNeighborsRegressor()\n",
    "knn_regression.fit(X_train, y_train)\n",
    "random_forest_regression = RandomForestRegressor(n_jobs=-1, n_estimators=50, min_samples_leaf=10, random_state = RANDOM_SEED)\n",
    "random_forest_regression.fit(X_train, y_train)"
   ]
  },
  {
   "cell_type": "code",
   "execution_count": null,
   "metadata": {},
   "outputs": [],
   "source": [
    "r2_and_rmse(baseline)\n",
    "r2_and_rmse(linear)\n",
    "r2_and_rmse(knn_regression)\n",
    "r2_and_rmse(random_forest_regression)"
   ]
  },
  {
   "cell_type": "markdown",
   "metadata": {},
   "source": [
    "## Ablative Analysis\n",
    "Remove one feature at a time and evaluate the percent decrease in R-squared"
   ]
  },
  {
   "cell_type": "code",
   "execution_count": null,
   "metadata": {},
   "outputs": [],
   "source": [
    "# Manually remove one feature at a time and re-run subesquent cells keeping track of R-squared.\n",
    "numeric_columns = ['title_length', 'gilded', 'num_comments']\n",
    "categorical_columns = ['weekday', 'hour']\n",
    "boolean_columns = ['sentiment']"
   ]
  },
  {
   "cell_type": "code",
   "execution_count": null,
   "metadata": {},
   "outputs": [],
   "source": [
    "categorical = [lb.fit_transform(df[col]) for col in categorical_columns]"
   ]
  },
  {
   "cell_type": "code",
   "execution_count": null,
   "metadata": {},
   "outputs": [],
   "source": [
    "boolean = [df[col].astype('int') for col in boolean_columns]"
   ]
  },
  {
   "cell_type": "code",
   "execution_count": null,
   "metadata": {},
   "outputs": [],
   "source": [
    "numeric = df.loc[:, numeric_columns].values"
   ]
  },
  {
   "cell_type": "code",
   "execution_count": null,
   "metadata": {},
   "outputs": [],
   "source": [
    "# Ablative Analysis\n",
    "linear = LinearRegression()\n",
    "final = [numeric] + boolean + categorical\n",
    "y = df['score'].values\n",
    "x = np.column_stack(tuple(final))\n",
    "X_train, X_test, y_train, y_test = train_test_split(x, y, test_size=0.3, random_state=RANDOM_SEED)"
   ]
  },
  {
   "cell_type": "code",
   "execution_count": null,
   "metadata": {},
   "outputs": [],
   "source": [
    "linear.fit(X_train,y_train)\n",
    "r2_and_rmse(linear)"
   ]
  },
  {
   "cell_type": "code",
   "execution_count": null,
   "metadata": {},
   "outputs": [],
   "source": [
    "# Calculating percent decrease in r_squared values here\n",
    "# x = 0.707978\n",
    "# (0.7079716 - x)/ 0.7079716"
   ]
  },
  {
   "cell_type": "code",
   "execution_count": null,
   "metadata": {},
   "outputs": [],
   "source": [
    "# Graph percent decrease per feature removed:\n",
    "r_squared_by_feature = {\n",
    "    'title_length': 0.0102405,\n",
    "    'gilded': 02.103262,\n",
    "    'num_comments': 80.7625757,\n",
    "    'weekday': 5.50869554662452e-04,\n",
    "    'hour': -3.1074692825986804e-04,\n",
    "    'over_18': -9.039910640429631e-04,\n",
    "    'sentiment': 1.6949832450923172e-03,\n",
    "    'embeddings': 1.084714\n",
    "}"
   ]
  },
  {
   "cell_type": "code",
   "execution_count": null,
   "metadata": {},
   "outputs": [],
   "source": [
    "plt.bar(range(len(r_squared_by_feature)), list(r_squared_by_feature.values()), align='center')\n",
    "plt.xticks(range(len(r_squared_by_feature)), list(r_squared_by_feature.keys()))\n",
    "plt.title('R-Squared % Decrease vs. Feature')\n",
    "plt.ylabel('R-Squared % Decrease')\n",
    "plt.xlabel('Feature')\n",
    "plt.xticks(rotation = 45)\n",
    "plt.show()"
   ]
  },
  {
   "cell_type": "code",
   "execution_count": null,
   "metadata": {},
   "outputs": [],
   "source": [
    "# Get frequency of positive/negative sentiment posts\n",
    "from collections import Counter\n",
    "Counter(df['sentiment'])"
   ]
  },
  {
   "cell_type": "code",
   "execution_count": null,
   "metadata": {},
   "outputs": [],
   "source": []
  }
 ],
 "metadata": {
  "kernelspec": {
   "display_name": "Python 3",
   "language": "python",
   "name": "python3"
  },
  "language_info": {
   "codemirror_mode": {
    "name": "ipython",
    "version": 3
   },
   "file_extension": ".py",
   "mimetype": "text/x-python",
   "name": "python",
   "nbconvert_exporter": "python",
   "pygments_lexer": "ipython3",
   "version": "3.7.3"
  }
 },
 "nbformat": 4,
 "nbformat_minor": 2
}
